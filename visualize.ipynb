{
  "nbformat": 4,
  "nbformat_minor": 0,
  "metadata": {
    "colab": {
      "name": "visualize.ipynb",
      "version": "0.3.2",
      "views": {},
      "default_view": {},
      "provenance": [],
      "collapsed_sections": []
    },
    "kernelspec": {
      "name": "python2",
      "display_name": "Python 2"
    }
  },
  "cells": [
    {
      "metadata": {
        "id": "xoZAHEhYP5lZ",
        "colab_type": "code",
        "colab": {
          "autoexec": {
            "startup": false,
            "wait_interval": 0
          },
          "output_extras": [
            {
              "item_id": 22
            }
          ],
          "base_uri": "https://localhost:8080/",
          "height": 393
        },
        "outputId": "0d08b274-e30f-4bae-9f8d-19323fbf8a28",
        "executionInfo": {
          "status": "ok",
          "timestamp": 1517779790669,
          "user_tz": -540,
          "elapsed": 11005,
          "user": {
            "displayName": "Korekara Itsukara",
            "photoUrl": "//lh4.googleusercontent.com/-vDvgzfZHpkc/AAAAAAAAAAI/AAAAAAAAALg/x0HtwXOF0lA/s50-c-k-no/photo.jpg",
            "userId": "112287315827599613681"
          }
        }
      },
      "cell_type": "code",
      "source": [
        "!pip install bokeh pandas"
      ],
      "execution_count": 2,
      "outputs": [
        {
          "output_type": "stream",
          "text": [
            "Collecting bokeh\n",
            "  Downloading bokeh-0.12.13.tar.gz (15.4MB)\n",
            "\u001b[K    100% |████████████████████████████████| 15.4MB 67kB/s \n",
            "\u001b[?25hRequirement already satisfied: pandas in /usr/local/lib/python2.7/dist-packages\n",
            "Requirement already satisfied: Jinja2>=2.7 in /usr/local/lib/python2.7/dist-packages (from bokeh)\n",
            "Requirement already satisfied: PyYAML>=3.10 in /usr/local/lib/python2.7/dist-packages (from bokeh)\n",
            "Requirement already satisfied: futures>=3.0.3 in /usr/local/lib/python2.7/dist-packages (from bokeh)\n",
            "Requirement already satisfied: numpy>=1.7.1 in /usr/local/lib/python2.7/dist-packages (from bokeh)\n",
            "Requirement already satisfied: python-dateutil>=2.1 in /usr/local/lib/python2.7/dist-packages (from bokeh)\n",
            "Requirement already satisfied: six>=1.5.2 in /usr/local/lib/python2.7/dist-packages (from bokeh)\n",
            "Requirement already satisfied: tornado>=4.3 in /usr/local/lib/python2.7/dist-packages (from bokeh)\n",
            "Requirement already satisfied: pytz>=2011k in /usr/local/lib/python2.7/dist-packages (from pandas)\n",
            "Requirement already satisfied: MarkupSafe in /usr/local/lib/python2.7/dist-packages (from Jinja2>=2.7->bokeh)\n",
            "Requirement already satisfied: backports_abc>=0.4 in /usr/local/lib/python2.7/dist-packages (from tornado>=4.3->bokeh)\n",
            "Requirement already satisfied: certifi in /usr/local/lib/python2.7/dist-packages (from tornado>=4.3->bokeh)\n",
            "Requirement already satisfied: singledispatch in /usr/local/lib/python2.7/dist-packages (from tornado>=4.3->bokeh)\n",
            "Building wheels for collected packages: bokeh\n",
            "  Running setup.py bdist_wheel for bokeh ... \u001b[?25l-\b \b\\\b \b|\b \b/\b \b-\b \b\\\b \b|\b \b/\b \b-\b \b\\\b \b|\b \b/\b \b-\b \bdone\n",
            "\u001b[?25h  Stored in directory: /content/.cache/pip/wheels/a7/2c/4a/96740179eabf7ddba1f7ae36ba96540e8a7e557936eaab4829\n",
            "Successfully built bokeh\n",
            "Installing collected packages: bokeh\n",
            "Successfully installed bokeh-0.12.13\n"
          ],
          "name": "stdout"
        }
      ]
    },
    {
      "metadata": {
        "id": "9Rwrc7zLW7IK",
        "colab_type": "code",
        "colab": {
          "autoexec": {
            "startup": false,
            "wait_interval": 0
          }
        }
      },
      "cell_type": "code",
      "source": [
        "import numpy as np\n",
        "from bokeh.plotting import figure, show\n",
        "from bokeh.io import output_notebook\n",
        "from bokeh.models import HoverTool\n",
        "# from bokeh.charts.utils import cycle_colors\n",
        "\n",
        "import pandas as pd\n",
        "import json\n",
        "# import sweeper"
      ],
      "execution_count": 0,
      "outputs": []
    },
    {
      "metadata": {
        "id": "8gJHefyyQmsw",
        "colab_type": "code",
        "colab": {
          "autoexec": {
            "startup": false,
            "wait_interval": 0
          },
          "output_extras": [
            {
              "item_id": 1
            }
          ],
          "base_uri": "https://localhost:8080/",
          "height": 36
        },
        "outputId": "b971fa31-5f8a-4921-baee-5edae5e2b653",
        "executionInfo": {
          "status": "ok",
          "timestamp": 1517779799528,
          "user_tz": -540,
          "elapsed": 1564,
          "user": {
            "displayName": "Korekara Itsukara",
            "photoUrl": "//lh4.googleusercontent.com/-vDvgzfZHpkc/AAAAAAAAAAI/AAAAAAAAALg/x0HtwXOF0lA/s50-c-k-no/photo.jpg",
            "userId": "112287315827599613681"
          }
        }
      },
      "cell_type": "code",
      "source": [
        "!ls"
      ],
      "execution_count": 4,
      "outputs": [
        {
          "output_type": "stream",
          "text": [
            "datalab  latest.log\r\n"
          ],
          "name": "stdout"
        }
      ]
    },
    {
      "metadata": {
        "id": "lxOEwamEXTi6",
        "colab_type": "code",
        "colab": {
          "autoexec": {
            "startup": false,
            "wait_interval": 0
          }
        }
      },
      "cell_type": "code",
      "source": [
        "def loadLog(filename):\n",
        "    s = []\n",
        "    for line in open(filename):\n",
        "        r = line.find('json_stats')\n",
        "        if r > -1:\n",
        "            s.append(json.loads(line[r+12:]))\n",
        "    return s\n",
        "\n",
        "\n",
        "def findSweepParams(frames):\n",
        "    def findConstants(frame):\n",
        "        keys = dict()\n",
        "        for key in frame.keys():\n",
        "            v = np.asarray(frame[key])\n",
        "            u = np.copy(v)\n",
        "            u.fill(v[0])\n",
        "            if np.array_equal(v, u):\n",
        "                keys[key] = v[0]\n",
        "        return keys\n",
        "    changing = dict()\n",
        "    for frame in frames:\n",
        "        for k, v in findConstants(frame).items():\n",
        "            if isinstance(v, list):\n",
        "                v = json.dumps(v)\n",
        "            if k not in changing:\n",
        "                changing[k] = {v}\n",
        "            else:\n",
        "                changing[k].add(v)\n",
        "    all_keys = []\n",
        "    for k, v in changing.items():\n",
        "        if len(v) > 1:\n",
        "            all_keys.append(k)\n",
        "    return sorted(all_keys)\n",
        "\n",
        "\n",
        "def generateLegend(frame, sweeps):\n",
        "    s = ''\n",
        "    for key in sweeps:\n",
        "        if key not in frame:\n",
        "            s = s + key + '=not present, '\n",
        "        else:\n",
        "            s = s + key + '=' + str(frame[key][0]) + ', '\n",
        "    return s\n",
        "\n",
        "def generateLegends(frames):\n",
        "    params = findSweepParams(frames)\n",
        "    return [generateLegend(frame, params) for frame in frames]\n"
      ],
      "execution_count": 0,
      "outputs": []
    },
    {
      "metadata": {
        "id": "aP4FFDoJZjMy",
        "colab_type": "code",
        "colab": {
          "autoexec": {
            "startup": false,
            "wait_interval": 0
          }
        }
      },
      "cell_type": "code",
      "source": [
        "def plotLogs(fname):\n",
        "    # parse log files, extracting json entry with stats per epoch and creating pandas DataFrame\n",
        "#    frames = [pd.DataFrame(loadLog('./logs/'+log+'/log.txt')) for log in log_names]\n",
        "    frame = pd.DataFrame(loadLog(fname))\n",
        "    \n",
        "    p = figure(title='test/train acc/loss', x_axis_label='epoch', plot_width=900, tools = \"pan,wheel_zoom,box_zoom,reset,hover,save\")\n",
        "    p.line(frame['epoch'], 100-frame['test_acc'],   color=\"red\")\n",
        "    p.line(frame['epoch'], 100-frame['train_acc'],  color=\"blue\")\n",
        "    p.line(frame['epoch'],  10*frame['test_loss'],  color=\"red\",  line_dash='dashed')\n",
        "    p.line(frame['epoch'],  10*frame['train_loss'], color=\"blue\", line_dash='dashed')\n",
        "          \n",
        "    show(p)"
      ],
      "execution_count": 0,
      "outputs": []
    },
    {
      "metadata": {
        "id": "cQ3S7mtEANTq",
        "colab_type": "code",
        "colab": {
          "autoexec": {
            "startup": false,
            "wait_interval": 0
          },
          "output_extras": [
            {
              "item_id": 1
            },
            {
              "item_id": 2
            },
            {
              "item_id": 3
            },
            {
              "item_id": 4
            },
            {
              "item_id": 5
            }
          ],
          "base_uri": "https://localhost:8080/",
          "height": 684
        },
        "outputId": "0bb702d0-388f-4afc-8bba-0ea291ae0080",
        "executionInfo": {
          "status": "ok",
          "timestamp": 1517779811035,
          "user_tz": -540,
          "elapsed": 1917,
          "user": {
            "displayName": "Korekara Itsukara",
            "photoUrl": "//lh4.googleusercontent.com/-vDvgzfZHpkc/AAAAAAAAAAI/AAAAAAAAALg/x0HtwXOF0lA/s50-c-k-no/photo.jpg",
            "userId": "112287315827599613681"
          }
        }
      },
      "cell_type": "code",
      "source": [
        "# Get sharable link of 'logs/log.txt' and past to following line\n",
        "# https://drive.google.com/open?id=1DMAOb94eAmtUdhv6il-obJCDUCcU4Ino\n",
        "# Copy and past \"id=...\" to following line and execute this cell\n",
        "!wget -nv \"https://drive.google.com/uc?export=download&id=1DMAOb94eAmtUdhv6il-obJCDUCcU4Ino\" -O latest.log\n",
        "output_notebook()\n",
        "plotLogs('latest.log')"
      ],
      "execution_count": 7,
      "outputs": [
        {
          "output_type": "stream",
          "text": [
            "2018-02-04 21:30:10 URL:https://doc-14-7g-docs.googleusercontent.com/docs/securesc/ha0ro937gcuc7l7deffksulhg5h7mbp1/vkioedrtb4853vd990r24s3uqlm496a3/1517774400000/12210222540973649861/*/1DMAOb94eAmtUdhv6il-obJCDUCcU4Ino?e=download [123486/123486] -> \"latest.log\" [1]\r\n"
          ],
          "name": "stdout"
        },
        {
          "output_type": "display_data",
          "data": {
            "text/html": [
              "\n",
              "    <div class=\"bk-root\">\n",
              "        <a href=\"https://bokeh.pydata.org\" target=\"_blank\" class=\"bk-logo bk-logo-small bk-logo-notebook\"></a>\n",
              "        <span id=\"2739541c-d7eb-4af6-85a9-226a1879fbce\">Loading BokehJS ...</span>\n",
              "    </div>"
            ]
          },
          "metadata": {
            "tags": []
          }
        },
        {
          "output_type": "display_data",
          "data": {
            "application/javascript": [
              "\n",
              "(function(root) {\n",
              "  function now() {\n",
              "    return new Date();\n",
              "  }\n",
              "\n",
              "  var force = true;\n",
              "\n",
              "  if (typeof (root._bokeh_onload_callbacks) === \"undefined\" || force === true) {\n",
              "    root._bokeh_onload_callbacks = [];\n",
              "    root._bokeh_is_loading = undefined;\n",
              "  }\n",
              "\n",
              "  var JS_MIME_TYPE = 'application/javascript';\n",
              "  var HTML_MIME_TYPE = 'text/html';\n",
              "  var EXEC_MIME_TYPE = 'application/vnd.bokehjs_exec.v0+json';\n",
              "  var CLASS_NAME = 'output_bokeh rendered_html';\n",
              "\n",
              "  /**\n",
              "   * Render data to the DOM node\n",
              "   */\n",
              "  function render(props, node) {\n",
              "    var script = document.createElement(\"script\");\n",
              "    node.appendChild(script);\n",
              "  }\n",
              "\n",
              "  /**\n",
              "   * Handle when an output is cleared or removed\n",
              "   */\n",
              "  function handleClearOutput(event, handle) {\n",
              "    var cell = handle.cell;\n",
              "\n",
              "    var id = cell.output_area._bokeh_element_id;\n",
              "    var server_id = cell.output_area._bokeh_server_id;\n",
              "    // Clean up Bokeh references\n",
              "    if (id !== undefined) {\n",
              "      Bokeh.index[id].model.document.clear();\n",
              "      delete Bokeh.index[id];\n",
              "    }\n",
              "\n",
              "    if (server_id !== undefined) {\n",
              "      // Clean up Bokeh references\n",
              "      var cmd = \"from bokeh.io.state import curstate; print(curstate().uuid_to_server['\" + server_id + \"'].get_sessions()[0].document.roots[0]._id)\";\n",
              "      cell.notebook.kernel.execute(cmd, {\n",
              "        iopub: {\n",
              "          output: function(msg) {\n",
              "            var element_id = msg.content.text.trim();\n",
              "            Bokeh.index[element_id].model.document.clear();\n",
              "            delete Bokeh.index[element_id];\n",
              "          }\n",
              "        }\n",
              "      });\n",
              "      // Destroy server and session\n",
              "      var cmd = \"import bokeh.io.notebook as ion; ion.destroy_server('\" + server_id + \"')\";\n",
              "      cell.notebook.kernel.execute(cmd);\n",
              "    }\n",
              "  }\n",
              "\n",
              "  /**\n",
              "   * Handle when a new output is added\n",
              "   */\n",
              "  function handleAddOutput(event, handle) {\n",
              "    var output_area = handle.output_area;\n",
              "    var output = handle.output;\n",
              "\n",
              "    // limit handleAddOutput to display_data with EXEC_MIME_TYPE content only\n",
              "    if ((output.output_type != \"display_data\") || (!output.data.hasOwnProperty(EXEC_MIME_TYPE))) {\n",
              "      return\n",
              "    }\n",
              "\n",
              "    var toinsert = output_area.element.find(\".\" + CLASS_NAME.split(' ')[0]);\n",
              "\n",
              "    if (output.metadata[EXEC_MIME_TYPE][\"id\"] !== undefined) {\n",
              "      toinsert[0].firstChild.textContent = output.data[JS_MIME_TYPE];\n",
              "      // store reference to embed id on output_area\n",
              "      output_area._bokeh_element_id = output.metadata[EXEC_MIME_TYPE][\"id\"];\n",
              "    }\n",
              "    if (output.metadata[EXEC_MIME_TYPE][\"server_id\"] !== undefined) {\n",
              "      var bk_div = document.createElement(\"div\");\n",
              "      bk_div.innerHTML = output.data[HTML_MIME_TYPE];\n",
              "      var script_attrs = bk_div.children[0].attributes;\n",
              "      for (var i = 0; i < script_attrs.length; i++) {\n",
              "        toinsert[0].firstChild.setAttribute(script_attrs[i].name, script_attrs[i].value);\n",
              "      }\n",
              "      // store reference to server id on output_area\n",
              "      output_area._bokeh_server_id = output.metadata[EXEC_MIME_TYPE][\"server_id\"];\n",
              "    }\n",
              "  }\n",
              "\n",
              "  function register_renderer(events, OutputArea) {\n",
              "\n",
              "    function append_mime(data, metadata, element) {\n",
              "      // create a DOM node to render to\n",
              "      var toinsert = this.create_output_subarea(\n",
              "        metadata,\n",
              "        CLASS_NAME,\n",
              "        EXEC_MIME_TYPE\n",
              "      );\n",
              "      this.keyboard_manager.register_events(toinsert);\n",
              "      // Render to node\n",
              "      var props = {data: data, metadata: metadata[EXEC_MIME_TYPE]};\n",
              "      render(props, toinsert[0]);\n",
              "      element.append(toinsert);\n",
              "      return toinsert\n",
              "    }\n",
              "\n",
              "    /* Handle when an output is cleared or removed */\n",
              "    events.on('clear_output.CodeCell', handleClearOutput);\n",
              "    events.on('delete.Cell', handleClearOutput);\n",
              "\n",
              "    /* Handle when a new output is added */\n",
              "    events.on('output_added.OutputArea', handleAddOutput);\n",
              "\n",
              "    /**\n",
              "     * Register the mime type and append_mime function with output_area\n",
              "     */\n",
              "    OutputArea.prototype.register_mime_type(EXEC_MIME_TYPE, append_mime, {\n",
              "      /* Is output safe? */\n",
              "      safe: true,\n",
              "      /* Index of renderer in `output_area.display_order` */\n",
              "      index: 0\n",
              "    });\n",
              "  }\n",
              "\n",
              "  // register the mime type if in Jupyter Notebook environment and previously unregistered\n",
              "  if (root.Jupyter !== undefined) {\n",
              "    var events = require('base/js/events');\n",
              "    var OutputArea = require('notebook/js/outputarea').OutputArea;\n",
              "\n",
              "    if (OutputArea.prototype.mime_types().indexOf(EXEC_MIME_TYPE) == -1) {\n",
              "      register_renderer(events, OutputArea);\n",
              "    }\n",
              "  }\n",
              "\n",
              "  \n",
              "  if (typeof (root._bokeh_timeout) === \"undefined\" || force === true) {\n",
              "    root._bokeh_timeout = Date.now() + 5000;\n",
              "    root._bokeh_failed_load = false;\n",
              "  }\n",
              "\n",
              "  var NB_LOAD_WARNING = {'data': {'text/html':\n",
              "     \"<div style='background-color: #fdd'>\\n\"+\n",
              "     \"<p>\\n\"+\n",
              "     \"BokehJS does not appear to have successfully loaded. If loading BokehJS from CDN, this \\n\"+\n",
              "     \"may be due to a slow or bad network connection. Possible fixes:\\n\"+\n",
              "     \"</p>\\n\"+\n",
              "     \"<ul>\\n\"+\n",
              "     \"<li>re-rerun `output_notebook()` to attempt to load from CDN again, or</li>\\n\"+\n",
              "     \"<li>use INLINE resources instead, as so:</li>\\n\"+\n",
              "     \"</ul>\\n\"+\n",
              "     \"<code>\\n\"+\n",
              "     \"from bokeh.resources import INLINE\\n\"+\n",
              "     \"output_notebook(resources=INLINE)\\n\"+\n",
              "     \"</code>\\n\"+\n",
              "     \"</div>\"}};\n",
              "\n",
              "  function display_loaded() {\n",
              "    var el = document.getElementById(\"2739541c-d7eb-4af6-85a9-226a1879fbce\");\n",
              "    if (el != null) {\n",
              "      el.textContent = \"BokehJS is loading...\";\n",
              "    }\n",
              "    if (root.Bokeh !== undefined) {\n",
              "      if (el != null) {\n",
              "        el.textContent = \"BokehJS \" + root.Bokeh.version + \" successfully loaded.\";\n",
              "      }\n",
              "    } else if (Date.now() < root._bokeh_timeout) {\n",
              "      setTimeout(display_loaded, 100)\n",
              "    }\n",
              "  }\n",
              "\n",
              "\n",
              "  function run_callbacks() {\n",
              "    try {\n",
              "      root._bokeh_onload_callbacks.forEach(function(callback) { callback() });\n",
              "    }\n",
              "    finally {\n",
              "      delete root._bokeh_onload_callbacks\n",
              "    }\n",
              "    console.info(\"Bokeh: all callbacks have finished\");\n",
              "  }\n",
              "\n",
              "  function load_libs(js_urls, callback) {\n",
              "    root._bokeh_onload_callbacks.push(callback);\n",
              "    if (root._bokeh_is_loading > 0) {\n",
              "      console.log(\"Bokeh: BokehJS is being loaded, scheduling callback at\", now());\n",
              "      return null;\n",
              "    }\n",
              "    if (js_urls == null || js_urls.length === 0) {\n",
              "      run_callbacks();\n",
              "      return null;\n",
              "    }\n",
              "    console.log(\"Bokeh: BokehJS not loaded, scheduling load and callback at\", now());\n",
              "    root._bokeh_is_loading = js_urls.length;\n",
              "    for (var i = 0; i < js_urls.length; i++) {\n",
              "      var url = js_urls[i];\n",
              "      var s = document.createElement('script');\n",
              "      s.src = url;\n",
              "      s.async = false;\n",
              "      s.onreadystatechange = s.onload = function() {\n",
              "        root._bokeh_is_loading--;\n",
              "        if (root._bokeh_is_loading === 0) {\n",
              "          console.log(\"Bokeh: all BokehJS libraries loaded\");\n",
              "          run_callbacks()\n",
              "        }\n",
              "      };\n",
              "      s.onerror = function() {\n",
              "        console.warn(\"failed to load library \" + url);\n",
              "      };\n",
              "      console.log(\"Bokeh: injecting script tag for BokehJS library: \", url);\n",
              "      document.getElementsByTagName(\"head\")[0].appendChild(s);\n",
              "    }\n",
              "  };var element = document.getElementById(\"2739541c-d7eb-4af6-85a9-226a1879fbce\");\n",
              "  if (element == null) {\n",
              "    console.log(\"Bokeh: ERROR: autoload.js configured with elementid '2739541c-d7eb-4af6-85a9-226a1879fbce' but no matching script tag was found. \")\n",
              "    return false;\n",
              "  }\n",
              "\n",
              "  var js_urls = [\"https://cdn.pydata.org/bokeh/release/bokeh-0.12.13.min.js\", \"https://cdn.pydata.org/bokeh/release/bokeh-widgets-0.12.13.min.js\", \"https://cdn.pydata.org/bokeh/release/bokeh-tables-0.12.13.min.js\", \"https://cdn.pydata.org/bokeh/release/bokeh-gl-0.12.13.min.js\"];\n",
              "\n",
              "  var inline_js = [\n",
              "    function(Bokeh) {\n",
              "      Bokeh.set_log_level(\"info\");\n",
              "    },\n",
              "    \n",
              "    function(Bokeh) {\n",
              "      \n",
              "    },\n",
              "    function(Bokeh) {\n",
              "      console.log(\"Bokeh: injecting CSS: https://cdn.pydata.org/bokeh/release/bokeh-0.12.13.min.css\");\n",
              "      Bokeh.embed.inject_css(\"https://cdn.pydata.org/bokeh/release/bokeh-0.12.13.min.css\");\n",
              "      console.log(\"Bokeh: injecting CSS: https://cdn.pydata.org/bokeh/release/bokeh-widgets-0.12.13.min.css\");\n",
              "      Bokeh.embed.inject_css(\"https://cdn.pydata.org/bokeh/release/bokeh-widgets-0.12.13.min.css\");\n",
              "      console.log(\"Bokeh: injecting CSS: https://cdn.pydata.org/bokeh/release/bokeh-tables-0.12.13.min.css\");\n",
              "      Bokeh.embed.inject_css(\"https://cdn.pydata.org/bokeh/release/bokeh-tables-0.12.13.min.css\");\n",
              "    }\n",
              "  ];\n",
              "\n",
              "  function run_inline_js() {\n",
              "    \n",
              "    if ((root.Bokeh !== undefined) || (force === true)) {\n",
              "      for (var i = 0; i < inline_js.length; i++) {\n",
              "        inline_js[i].call(root, root.Bokeh);\n",
              "      }if (force === true) {\n",
              "        display_loaded();\n",
              "      }} else if (Date.now() < root._bokeh_timeout) {\n",
              "      setTimeout(run_inline_js, 100);\n",
              "    } else if (!root._bokeh_failed_load) {\n",
              "      console.log(\"Bokeh: BokehJS failed to load within specified timeout.\");\n",
              "      root._bokeh_failed_load = true;\n",
              "    } else if (force !== true) {\n",
              "      var cell = $(document.getElementById(\"2739541c-d7eb-4af6-85a9-226a1879fbce\")).parents('.cell').data().cell;\n",
              "      cell.output_area.append_execute_result(NB_LOAD_WARNING)\n",
              "    }\n",
              "\n",
              "  }\n",
              "\n",
              "  if (root._bokeh_is_loading === 0) {\n",
              "    console.log(\"Bokeh: BokehJS loaded, going straight to plotting\");\n",
              "    run_inline_js();\n",
              "  } else {\n",
              "    load_libs(js_urls, function() {\n",
              "      console.log(\"Bokeh: BokehJS plotting callback run at\", now());\n",
              "      run_inline_js();\n",
              "    });\n",
              "  }\n",
              "}(window));"
            ],
            "application/vnd.bokehjs_load.v0+json": "\n(function(root) {\n  function now() {\n    return new Date();\n  }\n\n  var force = true;\n\n  if (typeof (root._bokeh_onload_callbacks) === \"undefined\" || force === true) {\n    root._bokeh_onload_callbacks = [];\n    root._bokeh_is_loading = undefined;\n  }\n\n  \n\n  \n  if (typeof (root._bokeh_timeout) === \"undefined\" || force === true) {\n    root._bokeh_timeout = Date.now() + 5000;\n    root._bokeh_failed_load = false;\n  }\n\n  var NB_LOAD_WARNING = {'data': {'text/html':\n     \"<div style='background-color: #fdd'>\\n\"+\n     \"<p>\\n\"+\n     \"BokehJS does not appear to have successfully loaded. If loading BokehJS from CDN, this \\n\"+\n     \"may be due to a slow or bad network connection. Possible fixes:\\n\"+\n     \"</p>\\n\"+\n     \"<ul>\\n\"+\n     \"<li>re-rerun `output_notebook()` to attempt to load from CDN again, or</li>\\n\"+\n     \"<li>use INLINE resources instead, as so:</li>\\n\"+\n     \"</ul>\\n\"+\n     \"<code>\\n\"+\n     \"from bokeh.resources import INLINE\\n\"+\n     \"output_notebook(resources=INLINE)\\n\"+\n     \"</code>\\n\"+\n     \"</div>\"}};\n\n  function display_loaded() {\n    var el = document.getElementById(\"2739541c-d7eb-4af6-85a9-226a1879fbce\");\n    if (el != null) {\n      el.textContent = \"BokehJS is loading...\";\n    }\n    if (root.Bokeh !== undefined) {\n      if (el != null) {\n        el.textContent = \"BokehJS \" + root.Bokeh.version + \" successfully loaded.\";\n      }\n    } else if (Date.now() < root._bokeh_timeout) {\n      setTimeout(display_loaded, 100)\n    }\n  }\n\n\n  function run_callbacks() {\n    try {\n      root._bokeh_onload_callbacks.forEach(function(callback) { callback() });\n    }\n    finally {\n      delete root._bokeh_onload_callbacks\n    }\n    console.info(\"Bokeh: all callbacks have finished\");\n  }\n\n  function load_libs(js_urls, callback) {\n    root._bokeh_onload_callbacks.push(callback);\n    if (root._bokeh_is_loading > 0) {\n      console.log(\"Bokeh: BokehJS is being loaded, scheduling callback at\", now());\n      return null;\n    }\n    if (js_urls == null || js_urls.length === 0) {\n      run_callbacks();\n      return null;\n    }\n    console.log(\"Bokeh: BokehJS not loaded, scheduling load and callback at\", now());\n    root._bokeh_is_loading = js_urls.length;\n    for (var i = 0; i < js_urls.length; i++) {\n      var url = js_urls[i];\n      var s = document.createElement('script');\n      s.src = url;\n      s.async = false;\n      s.onreadystatechange = s.onload = function() {\n        root._bokeh_is_loading--;\n        if (root._bokeh_is_loading === 0) {\n          console.log(\"Bokeh: all BokehJS libraries loaded\");\n          run_callbacks()\n        }\n      };\n      s.onerror = function() {\n        console.warn(\"failed to load library \" + url);\n      };\n      console.log(\"Bokeh: injecting script tag for BokehJS library: \", url);\n      document.getElementsByTagName(\"head\")[0].appendChild(s);\n    }\n  };var element = document.getElementById(\"2739541c-d7eb-4af6-85a9-226a1879fbce\");\n  if (element == null) {\n    console.log(\"Bokeh: ERROR: autoload.js configured with elementid '2739541c-d7eb-4af6-85a9-226a1879fbce' but no matching script tag was found. \")\n    return false;\n  }\n\n  var js_urls = [\"https://cdn.pydata.org/bokeh/release/bokeh-0.12.13.min.js\", \"https://cdn.pydata.org/bokeh/release/bokeh-widgets-0.12.13.min.js\", \"https://cdn.pydata.org/bokeh/release/bokeh-tables-0.12.13.min.js\", \"https://cdn.pydata.org/bokeh/release/bokeh-gl-0.12.13.min.js\"];\n\n  var inline_js = [\n    function(Bokeh) {\n      Bokeh.set_log_level(\"info\");\n    },\n    \n    function(Bokeh) {\n      \n    },\n    function(Bokeh) {\n      console.log(\"Bokeh: injecting CSS: https://cdn.pydata.org/bokeh/release/bokeh-0.12.13.min.css\");\n      Bokeh.embed.inject_css(\"https://cdn.pydata.org/bokeh/release/bokeh-0.12.13.min.css\");\n      console.log(\"Bokeh: injecting CSS: https://cdn.pydata.org/bokeh/release/bokeh-widgets-0.12.13.min.css\");\n      Bokeh.embed.inject_css(\"https://cdn.pydata.org/bokeh/release/bokeh-widgets-0.12.13.min.css\");\n      console.log(\"Bokeh: injecting CSS: https://cdn.pydata.org/bokeh/release/bokeh-tables-0.12.13.min.css\");\n      Bokeh.embed.inject_css(\"https://cdn.pydata.org/bokeh/release/bokeh-tables-0.12.13.min.css\");\n    }\n  ];\n\n  function run_inline_js() {\n    \n    if ((root.Bokeh !== undefined) || (force === true)) {\n      for (var i = 0; i < inline_js.length; i++) {\n        inline_js[i].call(root, root.Bokeh);\n      }if (force === true) {\n        display_loaded();\n      }} else if (Date.now() < root._bokeh_timeout) {\n      setTimeout(run_inline_js, 100);\n    } else if (!root._bokeh_failed_load) {\n      console.log(\"Bokeh: BokehJS failed to load within specified timeout.\");\n      root._bokeh_failed_load = true;\n    } else if (force !== true) {\n      var cell = $(document.getElementById(\"2739541c-d7eb-4af6-85a9-226a1879fbce\")).parents('.cell').data().cell;\n      cell.output_area.append_execute_result(NB_LOAD_WARNING)\n    }\n\n  }\n\n  if (root._bokeh_is_loading === 0) {\n    console.log(\"Bokeh: BokehJS loaded, going straight to plotting\");\n    run_inline_js();\n  } else {\n    load_libs(js_urls, function() {\n      console.log(\"Bokeh: BokehJS plotting callback run at\", now());\n      run_inline_js();\n    });\n  }\n}(window));"
          },
          "metadata": {
            "tags": []
          }
        },
        {
          "output_type": "display_data",
          "data": {
            "text/html": [
              "\n",
              "<div class=\"bk-root\">\n",
              "    <div class=\"bk-plotdiv\" id=\"10ffcc24-22b3-4e2a-a316-a1162777a23f\"></div>\n",
              "</div>"
            ]
          },
          "metadata": {
            "tags": []
          }
        },
        {
          "output_type": "display_data",
          "data": {
            "application/javascript": [
              "(function(root) {\n",
              "  function embed_document(root) {\n",
              "    \n",
              "  var docs_json = {\"f4590294-468c-47ca-9688-a8dbf0b75d4a\":{\"roots\":{\"references\":[{\"attributes\":{\"data_source\":{\"id\":\"568ab896-87ce-43f7-b264-d072e21df709\",\"type\":\"ColumnDataSource\"},\"glyph\":{\"id\":\"973dde25-0c12-4ab3-bb90-df1a6d191b1c\",\"type\":\"Line\"},\"hover_glyph\":null,\"muted_glyph\":null,\"nonselection_glyph\":{\"id\":\"747a773e-35ac-406d-ab41-6a23a1a0a63d\",\"type\":\"Line\"},\"selection_glyph\":null,\"view\":{\"id\":\"0c352907-36a2-4b36-8ca6-e66cf8758450\",\"type\":\"CDSView\"}},\"id\":\"170bb407-90ee-4f18-aeda-c936f38677cf\",\"type\":\"GlyphRenderer\"},{\"attributes\":{\"data_source\":{\"id\":\"5411bff2-928a-466e-b66f-57711868424e\",\"type\":\"ColumnDataSource\"},\"glyph\":{\"id\":\"4a7d203c-a2e8-4c66-a517-9b918f52251a\",\"type\":\"Line\"},\"hover_glyph\":null,\"muted_glyph\":null,\"nonselection_glyph\":{\"id\":\"ddfd9de0-6020-41d0-8495-9cd47d25d48b\",\"type\":\"Line\"},\"selection_glyph\":null,\"view\":{\"id\":\"aa3a2d15-f51c-49c3-9d41-2d700c81590d\",\"type\":\"CDSView\"}},\"id\":\"f961b2af-2c05-4abc-a32a-a4d3d8ea91b5\",\"type\":\"GlyphRenderer\"},{\"attributes\":{\"line_alpha\":0.1,\"line_color\":\"#1f77b4\",\"x\":{\"field\":\"x\"},\"y\":{\"field\":\"y\"}},\"id\":\"807b6724-3031-47e2-a3b6-a8c546e88c1a\",\"type\":\"Line\"},{\"attributes\":{\"axis_label\":\"epoch\",\"formatter\":{\"id\":\"91ca8ada-0f30-4757-b3b9-b5f9bc38b641\",\"type\":\"BasicTickFormatter\"},\"plot\":{\"id\":\"3e49fa04-bc84-41a2-a63c-41989acddb6b\",\"subtype\":\"Figure\",\"type\":\"Plot\"},\"ticker\":{\"id\":\"016e3d91-d351-4dc0-8f59-239871ec90c0\",\"type\":\"BasicTicker\"}},\"id\":\"3c4d79de-7dd7-4bba-bb1c-87cf895593dd\",\"type\":\"LinearAxis\"},{\"attributes\":{},\"id\":\"4cad48f9-1f25-4f73-9756-f42f4e3613b8\",\"type\":\"LinearScale\"},{\"attributes\":{\"line_color\":\"blue\",\"line_dash\":[6],\"x\":{\"field\":\"x\"},\"y\":{\"field\":\"y\"}},\"id\":\"4a7d203c-a2e8-4c66-a517-9b918f52251a\",\"type\":\"Line\"},{\"attributes\":{},\"id\":\"91ca8ada-0f30-4757-b3b9-b5f9bc38b641\",\"type\":\"BasicTickFormatter\"},{\"attributes\":{\"callback\":null,\"column_names\":[\"x\",\"y\"],\"data\":{\"x\":[1,2,3,4,5,6,7,8,9,10,11,12,13,14,15,16,17,18,19,20,21,22,23,24,25,26,27,28,29,30,31,32,33,34,35,36,37,38,39,40,41,42,43,44,45,46,47,48,49,50,51,52,53,54,55,56,57,58,59,60,61,62,63,64,65,66,67,68,69,70,71,72,73,74,75,76,77,78,79,80,81,82,83,84,85,86,87,88,89,90,91,92,93,94,95,96,97,98,99,100,101,102,103,104,105,106,107,108,109,110,111,112,113,114,115,116,117,118,119,120,121,122,123,124,125,126,127,128,129,130,131,132,133,134,135,136,137,138,139,140,141,142,143,144,145,146,147,148,149,150,151,152,153,154,155,156,157,158,159,160,161,162,163,164,165,166,167,168,169,170,171,172,173,174,175,176,177,178,179,180,181,182,183,184,185,186,187,188,189,190,191,192,193,194,195,196,197,198,199,200],\"y\":{\"__ndarray__\":\"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\",\"dtype\":\"float64\",\"shape\":[200]}}},\"id\":\"01e5a99e-ea9d-4ad9-a17e-a5170c457e6a\",\"type\":\"ColumnDataSource\"},{\"attributes\":{},\"id\":\"6623a677-0c23-4108-84da-8b37fd5742a0\",\"type\":\"LinearScale\"},{\"attributes\":{\"line_color\":\"blue\",\"x\":{\"field\":\"x\"},\"y\":{\"field\":\"y\"}},\"id\":\"2b49f5ac-edfa-4da4-9a8f-b0b30135c57e\",\"type\":\"Line\"},{\"attributes\":{},\"id\":\"884da67c-cc81-4357-a43a-c7e51e8c8b00\",\"type\":\"BasicTickFormatter\"},{\"attributes\":{\"below\":[{\"id\":\"3c4d79de-7dd7-4bba-bb1c-87cf895593dd\",\"type\":\"LinearAxis\"}],\"left\":[{\"id\":\"15c69f15-9a38-46c1-bfea-8dc0a22ea0dc\",\"type\":\"LinearAxis\"}],\"plot_width\":900,\"renderers\":[{\"id\":\"3c4d79de-7dd7-4bba-bb1c-87cf895593dd\",\"type\":\"LinearAxis\"},{\"id\":\"b547b88c-195b-4db3-ae95-0b80267b920e\",\"type\":\"Grid\"},{\"id\":\"15c69f15-9a38-46c1-bfea-8dc0a22ea0dc\",\"type\":\"LinearAxis\"},{\"id\":\"7cbdc266-3f47-4bbe-94e2-ab7ae9ce59ca\",\"type\":\"Grid\"},{\"id\":\"d505e5e5-ad4e-493a-8e79-7b6540f16593\",\"type\":\"BoxAnnotation\"},{\"id\":\"8f18c83a-aca3-4ff0-ac90-f67ca9a9f371\",\"type\":\"GlyphRenderer\"},{\"id\":\"863acd18-e93d-4592-baeb-b898aa040368\",\"type\":\"GlyphRenderer\"},{\"id\":\"170bb407-90ee-4f18-aeda-c936f38677cf\",\"type\":\"GlyphRenderer\"},{\"id\":\"f961b2af-2c05-4abc-a32a-a4d3d8ea91b5\",\"type\":\"GlyphRenderer\"}],\"title\":{\"id\":\"a718b50f-5f87-4e88-b85b-3441b41ad8f4\",\"type\":\"Title\"},\"toolbar\":{\"id\":\"8b537b0f-4bac-4edc-9028-6cc80e726320\",\"type\":\"Toolbar\"},\"x_range\":{\"id\":\"9b784857-f230-4428-b80c-03ffe3471923\",\"type\":\"DataRange1d\"},\"x_scale\":{\"id\":\"4cad48f9-1f25-4f73-9756-f42f4e3613b8\",\"type\":\"LinearScale\"},\"y_range\":{\"id\":\"25a37c97-9dc8-4bdf-a6c5-87fba79eab34\",\"type\":\"DataRange1d\"},\"y_scale\":{\"id\":\"6623a677-0c23-4108-84da-8b37fd5742a0\",\"type\":\"LinearScale\"}},\"id\":\"3e49fa04-bc84-41a2-a63c-41989acddb6b\",\"subtype\":\"Figure\",\"type\":\"Plot\"},{\"attributes\":{\"callback\":null},\"id\":\"a42a445b-65ac-46e2-9ef0-9246e37b8fd3\",\"type\":\"HoverTool\"},{\"attributes\":{\"plot\":{\"id\":\"3e49fa04-bc84-41a2-a63c-41989acddb6b\",\"subtype\":\"Figure\",\"type\":\"Plot\"},\"ticker\":{\"id\":\"016e3d91-d351-4dc0-8f59-239871ec90c0\",\"type\":\"BasicTicker\"}},\"id\":\"b547b88c-195b-4db3-ae95-0b80267b920e\",\"type\":\"Grid\"},{\"attributes\":{\"plot\":null,\"text\":\"test/train acc/loss\"},\"id\":\"a718b50f-5f87-4e88-b85b-3441b41ad8f4\",\"type\":\"Title\"},{\"attributes\":{\"callback\":null},\"id\":\"25a37c97-9dc8-4bdf-a6c5-87fba79eab34\",\"type\":\"DataRange1d\"},{\"attributes\":{\"callback\":null},\"id\":\"9b784857-f230-4428-b80c-03ffe3471923\",\"type\":\"DataRange1d\"},{\"attributes\":{},\"id\":\"a80731c6-fe93-44ec-a6f2-2af95abaf21a\",\"type\":\"SaveTool\"},{\"attributes\":{\"source\":{\"id\":\"eb7a7ca2-a05a-4c34-9a17-4f682cba14be\",\"type\":\"ColumnDataSource\"}},\"id\":\"446cd282-ad6a-402b-b358-00087decb84e\",\"type\":\"CDSView\"},{\"attributes\":{\"line_alpha\":0.1,\"line_color\":\"#1f77b4\",\"x\":{\"field\":\"x\"},\"y\":{\"field\":\"y\"}},\"id\":\"a77e5292-082c-41dd-9c35-45230bdd92e7\",\"type\":\"Line\"},{\"attributes\":{\"callback\":null,\"column_names\":[\"y\",\"x\"],\"data\":{\"x\":[1,2,3,4,5,6,7,8,9,10,11,12,13,14,15,16,17,18,19,20,21,22,23,24,25,26,27,28,29,30,31,32,33,34,35,36,37,38,39,40,41,42,43,44,45,46,47,48,49,50,51,52,53,54,55,56,57,58,59,60,61,62,63,64,65,66,67,68,69,70,71,72,73,74,75,76,77,78,79,80,81,82,83,84,85,86,87,88,89,90,91,92,93,94,95,96,97,98,99,100,101,102,103,104,105,106,107,108,109,110,111,112,113,114,115,116,117,118,119,120,121,122,123,124,125,126,127,128,129,130,131,132,133,134,135,136,137,138,139,140,141,142,143,144,145,146,147,148,149,150,151,152,153,154,155,156,157,158,159,160,161,162,163,164,165,166,167,168,169,170,171,172,173,174,175,176,177,178,179,180,181,182,183,184,185,186,187,188,189,190,191,192,193,194,195,196,197,198,199,200],\"y\":{\"__ndarray__\":\"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\",\"dtype\":\"float64\",\"shape\":[200]}}},\"id\":\"568ab896-87ce-43f7-b264-d072e21df709\",\"type\":\"ColumnDataSource\"},{\"attributes\":{},\"id\":\"016e3d91-d351-4dc0-8f59-239871ec90c0\",\"type\":\"BasicTicker\"},{\"attributes\":{\"formatter\":{\"id\":\"884da67c-cc81-4357-a43a-c7e51e8c8b00\",\"type\":\"BasicTickFormatter\"},\"plot\":{\"id\":\"3e49fa04-bc84-41a2-a63c-41989acddb6b\",\"subtype\":\"Figure\",\"type\":\"Plot\"},\"ticker\":{\"id\":\"6acb2437-efdb-44ab-a669-b7b8e9b660da\",\"type\":\"BasicTicker\"}},\"id\":\"15c69f15-9a38-46c1-bfea-8dc0a22ea0dc\",\"type\":\"LinearAxis\"},{\"attributes\":{\"dimension\":1,\"plot\":{\"id\":\"3e49fa04-bc84-41a2-a63c-41989acddb6b\",\"subtype\":\"Figure\",\"type\":\"Plot\"},\"ticker\":{\"id\":\"6acb2437-efdb-44ab-a669-b7b8e9b660da\",\"type\":\"BasicTicker\"}},\"id\":\"7cbdc266-3f47-4bbe-94e2-ab7ae9ce59ca\",\"type\":\"Grid\"},{\"attributes\":{\"data_source\":{\"id\":\"eb7a7ca2-a05a-4c34-9a17-4f682cba14be\",\"type\":\"ColumnDataSource\"},\"glyph\":{\"id\":\"19a84194-47de-4733-ab45-61b2afbb1ffb\",\"type\":\"Line\"},\"hover_glyph\":null,\"muted_glyph\":null,\"nonselection_glyph\":{\"id\":\"807b6724-3031-47e2-a3b6-a8c546e88c1a\",\"type\":\"Line\"},\"selection_glyph\":null,\"view\":{\"id\":\"446cd282-ad6a-402b-b358-00087decb84e\",\"type\":\"CDSView\"}},\"id\":\"8f18c83a-aca3-4ff0-ac90-f67ca9a9f371\",\"type\":\"GlyphRenderer\"},{\"attributes\":{\"bottom_units\":\"screen\",\"fill_alpha\":{\"value\":0.5},\"fill_color\":{\"value\":\"lightgrey\"},\"left_units\":\"screen\",\"level\":\"overlay\",\"line_alpha\":{\"value\":1.0},\"line_color\":{\"value\":\"black\"},\"line_dash\":[4,4],\"line_width\":{\"value\":2},\"plot\":null,\"render_mode\":\"css\",\"right_units\":\"screen\",\"top_units\":\"screen\"},\"id\":\"d505e5e5-ad4e-493a-8e79-7b6540f16593\",\"type\":\"BoxAnnotation\"},{\"attributes\":{\"line_alpha\":0.1,\"line_color\":\"#1f77b4\",\"line_dash\":[6],\"x\":{\"field\":\"x\"},\"y\":{\"field\":\"y\"}},\"id\":\"747a773e-35ac-406d-ab41-6a23a1a0a63d\",\"type\":\"Line\"},{\"attributes\":{\"source\":{\"id\":\"5411bff2-928a-466e-b66f-57711868424e\",\"type\":\"ColumnDataSource\"}},\"id\":\"aa3a2d15-f51c-49c3-9d41-2d700c81590d\",\"type\":\"CDSView\"},{\"attributes\":{\"data_source\":{\"id\":\"01e5a99e-ea9d-4ad9-a17e-a5170c457e6a\",\"type\":\"ColumnDataSource\"},\"glyph\":{\"id\":\"2b49f5ac-edfa-4da4-9a8f-b0b30135c57e\",\"type\":\"Line\"},\"hover_glyph\":null,\"muted_glyph\":null,\"nonselection_glyph\":{\"id\":\"a77e5292-082c-41dd-9c35-45230bdd92e7\",\"type\":\"Line\"},\"selection_glyph\":null,\"view\":{\"id\":\"4e266bdc-d97a-4f98-84f0-e80276dbf78e\",\"type\":\"CDSView\"}},\"id\":\"863acd18-e93d-4592-baeb-b898aa040368\",\"type\":\"GlyphRenderer\"},{\"attributes\":{\"source\":{\"id\":\"01e5a99e-ea9d-4ad9-a17e-a5170c457e6a\",\"type\":\"ColumnDataSource\"}},\"id\":\"4e266bdc-d97a-4f98-84f0-e80276dbf78e\",\"type\":\"CDSView\"},{\"attributes\":{\"line_color\":\"red\",\"x\":{\"field\":\"x\"},\"y\":{\"field\":\"y\"}},\"id\":\"19a84194-47de-4733-ab45-61b2afbb1ffb\",\"type\":\"Line\"},{\"attributes\":{\"source\":{\"id\":\"568ab896-87ce-43f7-b264-d072e21df709\",\"type\":\"ColumnDataSource\"}},\"id\":\"0c352907-36a2-4b36-8ca6-e66cf8758450\",\"type\":\"CDSView\"},{\"attributes\":{},\"id\":\"c70deb21-7ab6-4585-bb81-06ef926caf47\",\"type\":\"PanTool\"},{\"attributes\":{},\"id\":\"5468cc1e-e7f3-4afe-b3d6-5264fe286825\",\"type\":\"WheelZoomTool\"},{\"attributes\":{\"line_color\":\"red\",\"line_dash\":[6],\"x\":{\"field\":\"x\"},\"y\":{\"field\":\"y\"}},\"id\":\"973dde25-0c12-4ab3-bb90-df1a6d191b1c\",\"type\":\"Line\"},{\"attributes\":{},\"id\":\"f57609a2-3a78-4608-a2fd-d4339576ac06\",\"type\":\"ResetTool\"},{\"attributes\":{},\"id\":\"6acb2437-efdb-44ab-a669-b7b8e9b660da\",\"type\":\"BasicTicker\"},{\"attributes\":{\"overlay\":{\"id\":\"d505e5e5-ad4e-493a-8e79-7b6540f16593\",\"type\":\"BoxAnnotation\"}},\"id\":\"baae1fb8-fa85-4db3-a80c-ebd51ec1cf14\",\"type\":\"BoxZoomTool\"},{\"attributes\":{\"active_drag\":\"auto\",\"active_inspect\":\"auto\",\"active_scroll\":\"auto\",\"active_tap\":\"auto\",\"tools\":[{\"id\":\"c70deb21-7ab6-4585-bb81-06ef926caf47\",\"type\":\"PanTool\"},{\"id\":\"5468cc1e-e7f3-4afe-b3d6-5264fe286825\",\"type\":\"WheelZoomTool\"},{\"id\":\"baae1fb8-fa85-4db3-a80c-ebd51ec1cf14\",\"type\":\"BoxZoomTool\"},{\"id\":\"f57609a2-3a78-4608-a2fd-d4339576ac06\",\"type\":\"ResetTool\"},{\"id\":\"a42a445b-65ac-46e2-9ef0-9246e37b8fd3\",\"type\":\"HoverTool\"},{\"id\":\"a80731c6-fe93-44ec-a6f2-2af95abaf21a\",\"type\":\"SaveTool\"}]},\"id\":\"8b537b0f-4bac-4edc-9028-6cc80e726320\",\"type\":\"Toolbar\"},{\"attributes\":{\"line_alpha\":0.1,\"line_color\":\"#1f77b4\",\"line_dash\":[6],\"x\":{\"field\":\"x\"},\"y\":{\"field\":\"y\"}},\"id\":\"ddfd9de0-6020-41d0-8495-9cd47d25d48b\",\"type\":\"Line\"},{\"attributes\":{\"callback\":null,\"column_names\":[\"y\",\"x\"],\"data\":{\"x\":[1,2,3,4,5,6,7,8,9,10,11,12,13,14,15,16,17,18,19,20,21,22,23,24,25,26,27,28,29,30,31,32,33,34,35,36,37,38,39,40,41,42,43,44,45,46,47,48,49,50,51,52,53,54,55,56,57,58,59,60,61,62,63,64,65,66,67,68,69,70,71,72,73,74,75,76,77,78,79,80,81,82,83,84,85,86,87,88,89,90,91,92,93,94,95,96,97,98,99,100,101,102,103,104,105,106,107,108,109,110,111,112,113,114,115,116,117,118,119,120,121,122,123,124,125,126,127,128,129,130,131,132,133,134,135,136,137,138,139,140,141,142,143,144,145,146,147,148,149,150,151,152,153,154,155,156,157,158,159,160,161,162,163,164,165,166,167,168,169,170,171,172,173,174,175,176,177,178,179,180,181,182,183,184,185,186,187,188,189,190,191,192,193,194,195,196,197,198,199,200],\"y\":{\"__ndarray__\":\"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\",\"dtype\":\"float64\",\"shape\":[200]}}},\"id\":\"5411bff2-928a-466e-b66f-57711868424e\",\"type\":\"ColumnDataSource\"},{\"attributes\":{\"callback\":null,\"column_names\":[\"x\",\"y\"],\"data\":{\"x\":[1,2,3,4,5,6,7,8,9,10,11,12,13,14,15,16,17,18,19,20,21,22,23,24,25,26,27,28,29,30,31,32,33,34,35,36,37,38,39,40,41,42,43,44,45,46,47,48,49,50,51,52,53,54,55,56,57,58,59,60,61,62,63,64,65,66,67,68,69,70,71,72,73,74,75,76,77,78,79,80,81,82,83,84,85,86,87,88,89,90,91,92,93,94,95,96,97,98,99,100,101,102,103,104,105,106,107,108,109,110,111,112,113,114,115,116,117,118,119,120,121,122,123,124,125,126,127,128,129,130,131,132,133,134,135,136,137,138,139,140,141,142,143,144,145,146,147,148,149,150,151,152,153,154,155,156,157,158,159,160,161,162,163,164,165,166,167,168,169,170,171,172,173,174,175,176,177,178,179,180,181,182,183,184,185,186,187,188,189,190,191,192,193,194,195,196,197,198,199,200],\"y\":{\"__ndarray__\":\"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\",\"dtype\":\"float64\",\"shape\":[200]}}},\"id\":\"eb7a7ca2-a05a-4c34-9a17-4f682cba14be\",\"type\":\"ColumnDataSource\"}],\"root_ids\":[\"3e49fa04-bc84-41a2-a63c-41989acddb6b\"]},\"title\":\"Bokeh Application\",\"version\":\"0.12.13\"}};\n",
              "  var render_items = [{\"docid\":\"f4590294-468c-47ca-9688-a8dbf0b75d4a\",\"elementid\":\"10ffcc24-22b3-4e2a-a316-a1162777a23f\",\"modelid\":\"3e49fa04-bc84-41a2-a63c-41989acddb6b\"}];\n",
              "  root.Bokeh.embed.embed_items_notebook(docs_json, render_items);\n",
              "\n",
              "  }\n",
              "  if (root.Bokeh !== undefined) {\n",
              "    embed_document(root);\n",
              "  } else {\n",
              "    var attempts = 0;\n",
              "    var timer = setInterval(function(root) {\n",
              "      if (root.Bokeh !== undefined) {\n",
              "        embed_document(root);\n",
              "        clearInterval(timer);\n",
              "      }\n",
              "      attempts++;\n",
              "      if (attempts > 100) {\n",
              "        console.log(\"Bokeh: ERROR: Unable to run BokehJS code because BokehJS library is missing\")\n",
              "        clearInterval(timer);\n",
              "      }\n",
              "    }, 10, root)\n",
              "  }\n",
              "})(window);"
            ],
            "application/vnd.bokehjs_exec.v0+json": ""
          },
          "metadata": {
            "tags": [],
            "application/vnd.bokehjs_exec.v0+json": {
              "id": "3e49fa04-bc84-41a2-a63c-41989acddb6b"
            }
          }
        }
      ]
    }
  ]
}